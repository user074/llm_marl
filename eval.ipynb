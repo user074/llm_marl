{
 "cells": [
  {
   "cell_type": "code",
   "execution_count": 1,
   "id": "0fd4e29e-3a47-493b-9731-1dca50b2b61e",
   "metadata": {},
   "outputs": [],
   "source": [
    "from vllm import LLM, SamplingParams\n",
    "from datasets import load_dataset\n",
    "import pandas as pd\n",
    "from xml.etree import ElementTree as ET\n",
    "import re\n",
    "import json"
   ]
  },
  {
   "cell_type": "code",
   "execution_count": null,
   "id": "a7df4df2-e8e5-4503-84f7-953ca5207013",
   "metadata": {},
   "outputs": [
    {
     "data": {
      "text/plain": [
       "res_correct\n",
       "1    3769\n",
       "0     905\n",
       "Name: count, dtype: int64"
      ]
     },
     "execution_count": 3,
     "metadata": {},
     "output_type": "execute_result"
    }
   ],
   "source": [
    "data = pd.read_json(\"/scratch/hd2584/llm_marl/sft/data/eval_sft_data/eval_sft_train.json\")\n",
    "data.res_correct.value_counts()"
   ]
  },
  {
   "cell_type": "code",
   "execution_count": 2,
   "id": "6be5561b-2493-4b7a-8dd7-831d58b7dae0",
   "metadata": {},
   "outputs": [],
   "source": [
    "def extract_tags(text, agent='generator'):\n",
    "    \"\"\"\n",
    "    Parse XML‑like tags from text using regex. Returns a dict:\n",
    "      - for agent='generator': keys \"think\" and \"answer\"\n",
    "      - for agent='evaluator': keys \"evaluate\" and \"verify\"\n",
    "    Each value is a list of the inner texts of those tags.\n",
    "    \"\"\"\n",
    "    # choose which tags to look for\n",
    "    if agent == 'generator':\n",
    "        tag_pairs = [(\"think\", \"think\"), (\"answer\", \"answer\")]\n",
    "    else:  # evaluator\n",
    "        tag_pairs = [(\"evaluate\", \"evaluate\"), (\"verify\", \"verify\")]\n",
    "\n",
    "    out = {}\n",
    "    for key, tag in tag_pairs:\n",
    "        # non‑greedy match between <tag>...</tag>, including newlines\n",
    "        pattern = rf\"<{tag}>(.*?)</{tag}>\"\n",
    "        matches = re.findall(pattern, text, flags=re.DOTALL)\n",
    "        # strip leading/trailing whitespace from each match\n",
    "        out[key] = [m.strip() for m in matches]\n",
    "    return out"
   ]
  },
  {
   "cell_type": "code",
   "execution_count": 13,
   "id": "d14804dd-1179-4014-907c-dc4030ef0fd0",
   "metadata": {},
   "outputs": [],
   "source": [
    "# data = pd.read_csv(\"/scratch/hd2584/llm_marl/results/test_eval/final_test_base.csv\")\n",
    "data = pd.read_csv(\"/scratch/hd2584/llm_marl/results/final_eval/final_train_gen_sft.csv\")"
   ]
  },
  {
   "cell_type": "markdown",
   "id": "a45447e6-6ae0-44df-a97a-d491ea647e24",
   "metadata": {},
   "source": [
    "## generator"
   ]
  },
  {
   "cell_type": "code",
   "execution_count": 14,
   "id": "09368311-1ce8-4a06-9fc7-a647ebaad427",
   "metadata": {},
   "outputs": [
    {
     "name": "stdout",
     "output_type": "stream",
     "text": [
      "- Accuracy: 0.714177407126611\n"
     ]
    }
   ],
   "source": [
    "# accuracy\n",
    "correct_cnt = 0\n",
    "gen_c_ver_c, gen_c_ver_w, gen_w_ver_c, gen_w_ver_w, no_ver = 0, 0, 0, 0, 0\n",
    "\n",
    "for idx, row in data.iterrows():\n",
    "    response = row['response']\n",
    "    answer = row['answer']\n",
    "\n",
    "    try:\n",
    "        tags_gen = extract_tags(\"<think>\" + response.replace(\"<<\", \"\").replace(\">>\", \"\"))\n",
    "    except ET.ParseError:\n",
    "        tags_gen = {\"think\": [], \"answer\": []}\n",
    "\n",
    "\n",
    "    if any((answer in attempt.replace('$', '').replace('ml', '').replace('.00', '').split()) for attempt in tags_gen[\"answer\"]):\n",
    "        data.loc[idx, 'res_correct'] = 1\n",
    "        gen_is_correct = True\n",
    "        correct_cnt += 1\n",
    "    else:\n",
    "        data.loc[idx, 'res_correct'] = 0\n",
    "        gen_is_correct = False\n",
    "\n",
    "print('- Accuracy:', correct_cnt/len(data))\n",
    "# len(data[data['res_correct']==1][data['eval_correct']==0])/len(data)"
   ]
  },
  {
   "cell_type": "code",
   "execution_count": 15,
   "id": "3d9249ad-649d-47ba-8e86-dafbdff18448",
   "metadata": {},
   "outputs": [
    {
     "name": "stdout",
     "output_type": "stream",
     "text": [
      "-answer: 18\n",
      "-cot: Janet sells 16 - 3 - 4 = <<16-3-4=9>>9 duck eggs a day.\n",
      "She makes 9 * 2 = $<<9*2=18>>18 every day at the farmer’s market.\n",
      "\n",
      "-generator: Janet’s ducks lay 16 eggs per day. She eats 3 for breakfast every morning. So, she has 16 - 3 = 13 eggs left. She bakes muffins for her friends every day with 4 eggs. So, she has 13 - 4 = 9 eggs left. She sells the remainder at the farmers' market daily for $2 per fresh duck egg. So, she makes 9 * $2 = $18 every day at the farmers' market.</think> <answer>$18</answer>\n",
      "----\n",
      "-answer: 3\n",
      "-cot: It takes 2/2=<<2/2=1>>1 bolt of white fiber\n",
      "So the total amount of fabric is 2+1=<<2+1=3>>3 bolts of fabric\n",
      "\n",
      "-generator: First, we need to find out how much white fiber is needed. Since the robe takes half as much white fiber as blue fiber, we can calculate the white fiber by dividing the blue fiber by 2. So, the white fiber is 2/2 = 1 bolt. Now, to find the total bolts of fiber needed, we add the blue and white fiber together. So, the total bolts of fiber needed is 2 + 1 = 3 bolts.</think> <answer>3</answer>\n",
      "----\n",
      "-answer: 70000\n",
      "-cot: The cost of the house and repairs came out to 80,000+50,000=$<<80000+50000=130000>>130,000\n",
      "He increased the value of the house by 80,000*1.5=<<80000*1.5=120000>>120,000\n",
      "So the new value of the house is 120,000+80,000=$<<120000+80000=200000>>200,000\n",
      "So he made a profit of 200,000-130,000=$<<200000-130000=70000>>70,000\n",
      "\n",
      "-generator: First, let's calculate the total cost of the house and the repairs. The total cost is $80,000 + $50,000 = $130,000. Next, let's calculate the increase in value of the house. The increase is 150% of the original value, which is 150/100 * $80,000 = $120,000. So, the new value of the house is $80,000 + $120,000 = $200,000. Finally, let's calculate the profit. The profit is the difference between the new value of the house and the total cost, which is $200,000 - $130,000 = $70,000.</think> <answer>$70,000</answer>\n",
      "----\n",
      "-answer: 540\n",
      "-cot: He sprints 3*3=<<3*3=9>>9 times\n",
      "So he runs 9*60=<<9*60=540>>540 meters\n",
      "\n",
      "-generator: James runs 3 sprints 3 times a week, so he runs 3 * 3 = 9 sprints a week. Each sprint is 60 meters, so he runs 9 * 60 = 540 meters a week.</think> <answer>540</answer>\n",
      "----\n",
      "-answer: 20\n",
      "-cot: If each chicken eats 3 cups of feed per day, then for 20 chickens they would need 3*20=<<3*20=60>>60 cups of feed per day.\n",
      "If she feeds the flock 15 cups of feed in the morning, and 25 cups in the afternoon, then the final meal would require 60-15-25=<<60-15-25=20>>20 cups of chicken feed.\n",
      "\n",
      "-generator: Wendi feeds each chicken 3 cups of feed per day. She has a flock of 20 chickens. In the morning, she feeds 15 cups of feed. In the afternoon, she feeds 25 cups of feed. To find out how many cups of feed she needs to give her chickens in the final meal of the day, we need to calculate the total amount of feed she has given so far and subtract it from the total amount of feed needed for the day. The total amount of feed needed for the day is 20 chickens * 3 cups of feed per chicken = 60 cups of feed. The total amount of feed she has given so far is 15 cups + 25 cups = 40 cups. Therefore, she needs to give her chickens 60 cups - 40 cups = 20 cups of feed in the final meal of the day.</think> <answer>20 cups</answer>\n",
      "----\n",
      "-answer: 64\n",
      "-cot: The discount price of one glass is 60/100 * 5 = $<<60/100*5=3>>3.\n",
      "If every second glass is cheaper, that means Kylar is going to buy 16 / 2 = <<16/2=8>>8 cheaper glasses.\n",
      "So for the cheaper glasses, Kylar is going to pay 8 * 3 = $<<8*3=24>>24.\n",
      "And for the regular-priced glasses, Kylar will pay 8 * 5 = $<<8*5=40>>40.\n",
      "So in total Kylar needs to pay 24 + 40 = $<<24+40=64>>64 for the glasses he wants to buy.\n",
      "\n",
      "-generator: First, we need to calculate the cost of the second glass. Since it costs 60% of the price of the first glass, we can calculate it as 0.6 * $5 = $3. Now, we need to calculate the total cost of the 16 glasses. Since every second glass costs only 60% of the price, we can calculate the cost of the second glass as $3. The remaining 14 glasses will cost $5 each. So, the total cost of the 14 glasses will be 14 * $5 = $70. The total cost of the 16 glasses will be the sum of the cost of the second glass and the cost of the remaining 14 glasses, which is $3 + $70 = $73. </think> <answer>$73</answer>\n",
      "----\n",
      "-answer: 260\n",
      "-cot: If Seattle has 20 sheep, Charleston has 4 * 20 sheep = <<20*4=80>>80 sheep\n",
      "Toulouse has twice as many sheep as Charleston, which is 2 * 80 sheep = <<2*80=160>>160 sheep\n",
      "Together, the three has 20 sheep + 160 sheep + 80 sheep = <<20+160+80=260>>260 sheep\n",
      "\n",
      "-generator: Let's start by finding out how many sheep Charleston has. Since Charleston has 4 times as many sheep as Seattle, and Seattle has 20 sheep, Charleston has 4 * 20 = 80 sheep. Now, let's find out how many sheep Toulouse has. Since Toulouse has twice as many sheep as Charleston, and Charleston has 80 sheep, Toulouse has 2 * 80 = 160 sheep. To find out how many sheep Toulouse, Charleston, and Seattle have together, we add the number of sheep each city has: 20 (Seattle) + 80 (Charleston) + 160 (Toulouse) = 260 sheep.</think> <answer>260</answer>\n",
      "----\n",
      "-answer: 160\n",
      "-cot: First find how many gigabytes are in 40% of the file: 200 GB * 40% = <<200*40*.01=80>>80 GB\n",
      "Then divide that number by the download rate to find the time until Windows restarts: 80 GB / 2 GB/minute = <<80/2=40>>40 minutes\n",
      "Then find the time to download the whole file after the restart: 200 GB / 2 GB/minute = <<200/2=100>>100 minutes\n",
      "Then add the time to download 40% of the file, to download the whole file, and to wait for Windows to update: 40 minutes + 100 minutes + 20 minutes = <<40+100+20=160>>160 minutes\n",
      "\n",
      "-generator: First, we need to calculate the time it takes to download the first 40% of the file. Since Carla can download 2 GB/minute, it will take her 40% * 200 GB / 2 GB/minute = 40 minutes to download the first 40% of the file. Then, she has to restart the download, which takes 20 minutes. So, the total time taken so far is 40 minutes + 20 minutes = 60 minutes. Now, we need to calculate the time it takes to download the remaining 60% of the file. Since Carla can download 2 GB/minute, it will take her 60% * 200 GB / 2 GB/minute = 60 minutes to download the remaining 60% of the file. Therefore, the total time taken to download the file is 60 minutes + 60 minutes = 120 minutes.</think> <answer>120 minutes</answer>\n",
      "----\n",
      "-answer: 45\n",
      "-cot: When he turned around he was 3*60=<<3*60=180>>180 miles from home\n",
      "He was only able to drive 4-2=<<4-2=2>>2 hours in the first four hours\n",
      "In half an hour he goes 30*.5=<<30*.5=15>>15 miles\n",
      "He then drives another 2-.5=<<2-.5=1.5>>1.5 hours\n",
      "In that time he goes 80*1.5=<<80*1.5=120>>120 miles\n",
      "So he drove 120+15=<<120+15=135>>135 miles\n",
      "So he is 180-135=<<180-135=45>>45 miles away from home\n",
      "\n",
      "-generator: John drives for 3 hours at a speed of 60 mph, so he covers a distance of 3 * 60 = 180 miles. He then spends the first 2 hours in standstill traffic, so he doesn't cover any distance during this time. He then drives for half an hour at a speed of 30 mph, covering a distance of 0.5 * 30 = 15 miles. Finally, he drives for the remaining 3.5 hours at a speed of 80 mph, covering a distance of 3.5 * 80 = 280 miles. In total, John covers a distance of 180 + 15 + 280 = 475 miles.</think> <answer>475 miles</answer>\n",
      "----\n",
      "-answer: 460\n",
      "-cot: Eliza is entitled to 45 -40 = <<45-40=5>>5 hours overtime pay.\n",
      "Her hourly rate for the overtime pay is $10 x 1.2 = $<<10*1.2=12>>12.\n",
      "So, Eliza will receive $12 x 5 =$<<12*5=60>>60 for overtime pay.\n",
      "Her regular weekly earning is $10 x 40 = $<<10*40=400>>400.\n",
      "Thus, Eliza will receive a total of $400 + $60 = $<<400+60=460>>460 for this week's work.\n",
      "\n",
      "-generator: Eliza's regular pay for the first 40 hours is 40 * $10 = $400. She worked 5 hours overtime, so her overtime pay is 5 * 1.2 * $10 = $60. Her total earnings for the week are $400 + $60 = $460.</think> <answer>$460</answer>\n",
      "----\n",
      "-answer: 366\n",
      "-cot: The number of downloads of the program in the second month increased to 3*60 = <<3*60=180>>180\n",
      "In the first two months, the total number of downloads of the program was 180+60 = <<180+60=240>>240\n",
      "In the third month, the number of downloads of the program reduced by 30/100*180 = <<30/100*180=54>>54\n",
      "There were 180-54 = <<180-54=126>>126 downloads in the third month.\n",
      "In the three months, the total number of downloads of the program was 126+240 = <<126+240=366>>366\n",
      "\n",
      "-generator: First month downloads: 60\n",
      "Second month downloads: 60 * 3 = 180\n",
      "Third month downloads: 180 - (180 * 0.3) = 180 - 54 = 126\n",
      "Total downloads: 60 + 180 + 126 = 366</think> <answer>366</answer>\n",
      "----\n",
      "-answer: 694\n",
      "-cot: The total charge for the doughnuts was 3 x $68 = $<<3*68=204>>204.\n",
      "The total charge for the mini cupcakes was 2 x $80 = $<<2*80=160>>160.\n",
      "The total charge for the mini cheesecakes was 6 x $55 = $<<6*55=330>>330.\n",
      "Therefore the total amount Toula paid for the pastries was $204 + $160 + $330 = $<<204+160+330=694>>694.\n",
      "\n",
      "-generator: First, let's calculate the cost of the donuts: 3 dozen donuts * $68 per dozen = $204. Next, let's calculate the cost of the mini cupcakes: 2 dozen mini cupcakes * $80 per dozen = $160. Finally, let's calculate the cost of the mini cheesecakes: 6 dozen mini cheesecakes * $55 per dozen = $330. Now, let's add up the costs of all the pastries: $204 + $160 + $330 = $694. </think> <answer>$694</answer>\n",
      "----\n",
      "-answer: 13\n",
      "-cot: He makes $10.5 selling lemons each year because 7 x 1.5 = <<7*1.5=10.5>>10.5\n",
      "He earns $7.5 each year from the lemon tree because 10.5 - 3 = <<10.5-3=7.5>>7.5\n",
      "It will take 12 years to earn enough to pay off the tree because 90 / 7.5 = <<90/7.5=12>>12\n",
      "He will make money in year 13 because 12 + 1 = <<12+1=13>>13\n",
      "\n",
      "-generator: First, we need to calculate the total cost of planting the lemon tree, which is $90. Next, we need to calculate the total revenue generated from selling lemons. Since each lemon is sold for $1.5 and the tree grows 7 lemons each year, the revenue generated from selling lemons is $1.5 * 7 = $10.5 per year. Now, we need to calculate the total cost of watering and feeding the tree, which is $3 per year. So, the net profit generated from the lemon tree each year is $10.5 - $3 = $7.2. To determine how many years it will take before Carlos starts earning money on the lemon tree, we need to divide the total cost of planting the tree by the net profit generated each year. So, $90 / $7.2 = 12.5 years. Since Carlos cannot have a fraction of a year, we round up to the nearest whole number, which is 13 years. Therefore, it will take 13 years before Carlos starts earning money on the lemon tree.</think> <answer>13</answer>\n",
      "----\n",
      "-answer: 18\n",
      "-cot: First multiply the five remaining vacuum cleaners by two to find out how many Melanie had before she visited the orange house: 5 * 2 = <<5*2=10>>10\n",
      "Then add two to figure out how many vacuum cleaners she had before visiting the red house: 10 + 2 = <<10+2=12>>12\n",
      "Now we know that 2/3 * x = 12, where x is the number of vacuum cleaners Melanie started with. We can find x by dividing each side of the equation by 2/3, which produces x = 18\n",
      "\n",
      "-generator: Let's assume Melanie started with x vacuum cleaners. She sold a third of them at the green house, so she had 2/3x left. Then she sold 2 more to the red house, so she had 2/3x - 2 left. Then she sold half of what was left at the orange house, so she had 1/2(2/3x - 2) left. We know that she has 5 vacuum cleaners left, so we can set up the equation 1/2(2/3x - 2) = 5. Solving for x, we get x = 15. Therefore, Melanie started with 15 vacuum cleaners.</think> <answer>15</answer>\n",
      "----\n",
      "-answer: 60\n",
      "-cot: There are 20 x 20/100 = <<20*20/100=4>>4 students who enrolled in contemporary dance.\n",
      "So, 20 - 4 = <<20-4=16>>16 students are enrolled in either jazz or hip-hop dance.\n",
      "There are 16 x 25/100 = <<16*25/100=4>>4 students who enrolled in jazz dance.\n",
      "Hence, 16 - 4 = <<16-4=12>>12 students enrolled in hip-hop dance.\n",
      "This is 12/20 x 100% = 60% of the entire students.\n",
      "\n",
      "-generator: 20% of 20 students is 4 students enrolled in contemporary dance. The remaining students are 20 - 4 = 16. 25% of 16 students is 4 students enrolled in jazz dance. The remaining students are 16 - 4 = 12. Therefore, 12 students enrolled in hip-hop dance.</think> <answer>12%</answer>\n",
      "----\n"
     ]
    }
   ],
   "source": [
    "i=0\n",
    "for idx, row in data.iterrows():\n",
    "    print('-answer:', row['answer'])\n",
    "    print('-cot:', row['cot'])\n",
    "    print('-generator:', row['response'])\n",
    "    print('----')\n",
    "    i += 1\n",
    "    if i ==15:\n",
    "        break"
   ]
  },
  {
   "cell_type": "markdown",
   "id": "aef4edc6-68a7-4022-b8fc-5349069e8e48",
   "metadata": {},
   "source": [
    "## evaluator"
   ]
  },
  {
   "cell_type": "code",
   "execution_count": 16,
   "id": "c9205842-97ab-4045-b380-86020ee057fa",
   "metadata": {},
   "outputs": [],
   "source": [
    "for idx, row in data.iterrows():\n",
    "    evaluate = row['evaluate']\n",
    "    if 'evaluate>' not in evaluate:\n",
    "        evaluate = evaluate.replace(\"<verify>\", \"</evaluate> <verify>\")\n",
    "    evaluate = evaluate.replace(\"<answer>\", \"<verify>\").replace(\"</answer>\", \"</verify>\")   \n",
    "    evaluate = evaluate.replace(\"< /evaluate>\", \"</evaluate>\").replace(\"< /verify>\", \"</verify>\")\n",
    "    evaluate = evaluate.replace(\"<<\", \"\").replace(\">>\", \"\")\n",
    "    data.loc[idx, 'evaluate'] = evaluate # prepare the training data  "
   ]
  },
  {
   "cell_type": "code",
   "execution_count": 17,
   "id": "98788a96-ca67-415a-a1dc-9234186f3ef8",
   "metadata": {},
   "outputs": [
    {
     "name": "stdout",
     "output_type": "stream",
     "text": [
      "- Accuracy: 0.7142\n",
      "- Generator correct, evaluator correct: 578 0.4382\n",
      "- Generator correct, evaluator wrong: 345 0.2616\n",
      "- Generator wrong, evaluator correct: 202 0.1531\n",
      "- Generator wrong, evaluator wrong: 163 0.1236\n",
      "- No verification: 26 0.0197\n"
     ]
    }
   ],
   "source": [
    "# accuracy\n",
    "correct_cnt = 0\n",
    "gen_c_ver_c, gen_c_ver_w, gen_w_ver_c, gen_w_ver_w, no_ver = 0, 0, 0, 0, 0\n",
    "\n",
    "for idx, row in data.iterrows():\n",
    "    response = row['response']\n",
    "    evaluate = row['evaluate']\n",
    "    answer = row['answer']\n",
    "\n",
    "    try:\n",
    "        tags_gen = extract_tags(\"<think>\" + response.replace(\"<<\", \"\").replace(\">>\", \"\"))\n",
    "    except ET.ParseError:\n",
    "        tags_gen = {\"think\": [], \"answer\": []}\n",
    "        \n",
    "    try:\n",
    "        tags_eval = extract_tags(\"<evaluate>\" + evaluate, agent = 'evaluator')\n",
    "    except ET.ParseError:\n",
    "        tags_eval = {\"evaluate\": [], \"verify\": []}\n",
    "\n",
    "\n",
    "    if any((answer in attempt.replace('$', '').replace('ml', '').replace('.00', '').split()) for attempt in tags_gen[\"answer\"]):\n",
    "        data.loc[idx, 'res_correct'] = 1\n",
    "        gen_is_correct = True\n",
    "        correct_cnt += 1\n",
    "    else:\n",
    "        data.loc[idx, 'res_correct'] = 0\n",
    "        gen_is_correct = False\n",
    "\n",
    "    if len(tags_eval[\"verify\"])==0:\n",
    "        # print(f'{idx}---')\n",
    "        # print(evaluate)\n",
    "        no_ver += 1\n",
    "    else:\n",
    "        verification = tags_eval[\"verify\"][0].lower()\n",
    "        if gen_is_correct and verification == 'correct':\n",
    "            # print('Generator correct, evaluator correct')\n",
    "            data.loc[idx, 'eval_correct'] = 1\n",
    "            gen_c_ver_c += 1\n",
    "        elif gen_is_correct and verification == 'wrong' :\n",
    "            # print('Generator correct, evaluator wrong')\n",
    "            # print(idx)\n",
    "            gen_c_ver_w += 1\n",
    "            data.loc[idx, 'eval_correct'] = 0\n",
    "        elif (not gen_is_correct) and verification == 'wrong':\n",
    "            # print('Generator wrong, evaluator correct')\n",
    "            gen_w_ver_c += 1\n",
    "            data.loc[idx, 'eval_correct'] = 1\n",
    "        elif (not gen_is_correct) and verification == 'correct':\n",
    "            # print('Generator wrong, evaluator wrong')\n",
    "            # print(idx)\n",
    "            gen_w_ver_w += 1\n",
    "            data.loc[idx, 'eval_correct'] = 0\n",
    "        \n",
    "        \n",
    "print('- Accuracy:', f'{correct_cnt/len(data):.4f}')\n",
    "print('- Generator correct, evaluator correct:', gen_c_ver_c, f'{gen_c_ver_c/len(data):.4f}')\n",
    "print('- Generator correct, evaluator wrong:', gen_c_ver_w, f'{gen_c_ver_w/len(data):.4f}')\n",
    "print('- Generator wrong, evaluator correct:', gen_w_ver_c, f'{gen_w_ver_c/len(data):.4f}')\n",
    "print('- Generator wrong, evaluator wrong:', gen_w_ver_w, f'{gen_w_ver_w/len(data):.4f}')\n",
    "print('- No verification:', no_ver, f'{no_ver/len(data):.4f}')\n",
    "# len(data[data['res_correct']==1][data['eval_correct']==0])/len(data)"
   ]
  },
  {
   "cell_type": "code",
   "execution_count": 18,
   "id": "cf707be1-a1af-4e25-ac07-59157599a8ed",
   "metadata": {},
   "outputs": [
    {
     "name": "stdout",
     "output_type": "stream",
     "text": [
      "0.4382\n",
      "0.2616\n",
      "0.1531\n",
      "0.1236\n",
      "0.0197\n"
     ]
    }
   ],
   "source": [
    "print(f'{gen_c_ver_c/len(data):.4f}')\n",
    "print(f'{gen_c_ver_w/len(data):.4f}')\n",
    "print(f'{gen_w_ver_c/len(data):.4f}')\n",
    "print(f'{gen_w_ver_w/len(data):.4f}')\n",
    "print(f'{no_ver/len(data):.4f}')"
   ]
  },
  {
   "cell_type": "markdown",
   "id": "7daf4b2d-615d-4852-a2d6-d3d27d93434d",
   "metadata": {},
   "source": [
    "## multi round data"
   ]
  },
  {
   "cell_type": "code",
   "execution_count": 19,
   "id": "9773490d-69cb-42ce-a839-0818c00c6875",
   "metadata": {},
   "outputs": [],
   "source": [
    "data = pd.read_csv(f\"/scratch/hd2584/llm_marl/results/final_eval_multi_round/final_test_gen_sft.csv\")"
   ]
  },
  {
   "cell_type": "code",
   "execution_count": 20,
   "id": "46751f33-ba8c-4cfd-877c-af4626e1b737",
   "metadata": {},
   "outputs": [],
   "source": [
    "# accuracy\n",
    "correct_cnt = 0\n",
    "gen_c_ver_c, gen_c_ver_w, gen_w_ver_c, gen_w_ver_w, no_ver = 0, 0, 0, 0, 0\n",
    "\n",
    "for idx, row in data.iterrows():\n",
    "    response = row['response']\n",
    "    evaluate = row['evaluate']\n",
    "    answer = row['answer']\n",
    "\n",
    "    try:\n",
    "        tags_gen = extract_tags(\"<think>\" + response.replace(\"<<\", \"\").replace(\">>\", \"\"))\n",
    "    except ET.ParseError:\n",
    "        tags_gen = {\"think\": [], \"answer\": []}\n",
    "        \n",
    "    try:\n",
    "        tags_eval = extract_tags(\"<evaluate>\" + evaluate, agent = 'evaluator')\n",
    "    except ET.ParseError:\n",
    "        tags_eval = {\"evaluate\": [], \"verify\": []}\n",
    "\n",
    "\n",
    "\n",
    "    if len(tags_eval[\"verify\"])==0:\n",
    "        # print(f'{idx}---')\n",
    "        # print(evaluate)\n",
    "        no_ver += 1\n",
    "    else:\n",
    "        verification = tags_eval[\"verify\"][0].lower()\n",
    "        data.loc[idx, 'verification'] = verification"
   ]
  },
  {
   "cell_type": "code",
   "execution_count": 21,
   "id": "f25c29b7-6bb8-4537-9e58-0b284610ed3b",
   "metadata": {},
   "outputs": [],
   "source": [
    "for idx, row in data.iterrows():\n",
    "    if row['verification'] == 'wrong':\n",
    "        data.loc[idx, 'response_multi'] = row['response_2']\n",
    "    else:\n",
    "        data.loc[idx, 'response_multi'] = row['response']"
   ]
  },
  {
   "cell_type": "code",
   "execution_count": 22,
   "id": "e518cf63-5b9d-475e-845d-de2ff4fe42a3",
   "metadata": {},
   "outputs": [
    {
     "data": {
      "text/plain": [
       "643"
      ]
     },
     "execution_count": 22,
     "metadata": {},
     "output_type": "execute_result"
    }
   ],
   "source": [
    "len(data[data['verification']=='wrong'])"
   ]
  },
  {
   "cell_type": "code",
   "execution_count": 23,
   "id": "683414e0-7874-4ef8-8d07-39c07e4135c5",
   "metadata": {},
   "outputs": [
    {
     "data": {
      "text/plain": [
       "1247"
      ]
     },
     "execution_count": 23,
     "metadata": {},
     "output_type": "execute_result"
    }
   ],
   "source": [
    "cnt = 0\n",
    "for i in range(len(data)):\n",
    "    if data['response'][i] != data['response_2'][i]:\n",
    "        cnt+=1\n",
    "cnt"
   ]
  },
  {
   "cell_type": "code",
   "execution_count": 25,
   "id": "4afc9913-214d-4348-8f11-529ac4179f14",
   "metadata": {},
   "outputs": [
    {
     "name": "stdout",
     "output_type": "stream",
     "text": [
      "- Accuracy: 0.5655799848369977\n"
     ]
    }
   ],
   "source": [
    "# accuracy\n",
    "correct_cnt = 0\n",
    "gen_c_ver_c, gen_c_ver_w, gen_w_ver_c, gen_w_ver_w, no_ver = 0, 0, 0, 0, 0\n",
    "\n",
    "for idx, row in data.iterrows():\n",
    "    response = row['response_multi']\n",
    "    answer = row['answer']\n",
    "\n",
    "    try:\n",
    "        tags_gen = extract_tags(\"<think>\" + response.replace(\"<<\", \"\").replace(\">>\", \"\"))\n",
    "    except:\n",
    "        tags_gen = {\"think\": [], \"answer\": []}\n",
    "\n",
    "\n",
    "    if any((answer in attempt.replace('$', '').replace('ml', '').replace('.00', '').split()) for attempt in tags_gen[\"answer\"]):\n",
    "        data.loc[idx, 'res_correct'] = 1\n",
    "        gen_is_correct = True\n",
    "        correct_cnt += 1\n",
    "    else:\n",
    "        data.loc[idx, 'res_correct'] = 0\n",
    "        gen_is_correct = False\n",
    "\n",
    "print('- Accuracy:', correct_cnt/len(data))\n",
    "# len(data[data['res_correct']==1][data['eval_correct']==0])/len(data)"
   ]
  },
  {
   "cell_type": "code",
   "execution_count": null,
   "id": "634565fb-c32d-4c86-89ce-289ed7e12d9c",
   "metadata": {},
   "outputs": [],
   "source": []
  },
  {
   "cell_type": "markdown",
   "id": "77462a04-fa98-4b05-9ad0-859066a6f61b",
   "metadata": {},
   "source": [
    "## example"
   ]
  },
  {
   "cell_type": "code",
   "execution_count": 59,
   "id": "9b53aead-87bf-476a-a886-a55500e8dfbb",
   "metadata": {},
   "outputs": [],
   "source": [
    "data =pd.read_csv(\"/scratch/hd2584/llm_marl/results/final_eval/final_test_selfplay.csv\")"
   ]
  },
  {
   "cell_type": "code",
   "execution_count": 60,
   "id": "43f9b313-203d-4e13-8bab-d9a3f662b1d7",
   "metadata": {},
   "outputs": [
    {
     "name": "stdout",
     "output_type": "stream",
     "text": [
      "----- response: -----\n",
      " \n",
      "Let’s think through this problem step by step. \n",
      "1. First, we need to determine how many eggs are left after Janet eats and bakes with her ducks' daily production. \n",
      "2. The ducks lay 16 eggs per day. \n",
      "3. Janet eats 3 eggs for breakfast each day and uses 4 eggs to make muffins. \n",
      "4. The total number of eggs she consumes and uses for muffins is 3 + 4 = <<3+4=7>>7 eggs.\n",
      "5. The number of eggs left after she consumes and uses some is 16 - 7 = <<16-7=9>>9 eggs.\n",
      "6. Janet sells each of the remaining eggs for $2. \n",
      "7. Therefore, her total sales would be 9 * 2 = $<<9*2=18>>18 dollars per day.\n",
      "</think> <answer>18</answer>\n",
      "----- evaluate: -----\n",
      " \n",
      "Let's evaluate the problem step by step to identify any errors in the solution provided. \n",
      "\n",
      "1. The ducks lay 16 eggs per day.\n",
      "2. Janet eats 3 eggs for breakfast and uses 4 eggs for muffins. This totals to 3 + 4 = 7 eggs.\n",
      "3. The number of eggs left after consumption is 16 - 7 = 9 eggs.\n",
      "4. Janet sells each of the remaining eggs for $2. Therefore, her total sales would be 9 * 2 = $18.\n",
      "\n",
      "Upon reviewing the calculations, all steps appear to be correct. The deductions for the number of eggs left and the total sales are accurate based on the information provided.\n",
      "\n",
      "</evaluate> <verify>correct</verify>\n"
     ]
    }
   ],
   "source": [
    "row = data.iloc[0]\n",
    "# print('----- question: -----')\n",
    "# print(row['question'])\n",
    "# print('----- answer: -----')\n",
    "# print(row['cot'])\n",
    "# print(row['answer'])\n",
    "print('----- response: -----')\n",
    "print(row['response'])\n",
    "print('----- evaluate: -----')\n",
    "print(row['evaluate'])"
   ]
  }
 ],
 "metadata": {
  "kernelspec": {
   "display_name": "my_env",
   "language": "python",
   "name": "my_env"
  },
  "language_info": {
   "codemirror_mode": {
    "name": "ipython",
    "version": 3
   },
   "file_extension": ".py",
   "mimetype": "text/x-python",
   "name": "python",
   "nbconvert_exporter": "python",
   "pygments_lexer": "ipython3",
   "version": "3.11.5"
  }
 },
 "nbformat": 4,
 "nbformat_minor": 5
}
